{
 "cells": [
  {
   "cell_type": "markdown",
   "id": "059577b1-615c-4405-9133-021c3b3864b2",
   "metadata": {},
   "source": [
    "# Pima Indians Heritage Diabetes - Hypothesis Testing Port Folio Project\n",
    "\n",
    "This notebook presents a statistical exploration of the Pima Indians Diabetes Dataset, sourced from Kaggle. The dataset contains medical and demographic information for female patients of Pima Indian heritage, aged 21 and older, with a binary outcome indicating the presence or absence of diabetes.\n",
    "\n",
    "The primary objective of this analysis is to apply hypothesis testing techniques to investigate whether certain health indicators and demographic features differ significantly between diabetic and non-diabetic individuals. This approach not only supports data-driven insights but also demonstrates the application of statistical rigor in real-world health data.\n"
   ]
  },
  {
   "cell_type": "markdown",
   "id": "6cb37872-8c4e-4fb0-bcb4-8db68e12d662",
   "metadata": {},
   "source": [
    "## Goals of the Analysis\n",
    "The aim is to test the following null hypotheses using appropriate statistical methods (e.g., t-tests, Mann–Whitney U tests, chi-square tests):\n",
    "- **Glucose Levels**\n",
    "H₀: BMI does not significantly differ between diabetic and non-diabetic individuals.\n",
    "- **Age**\n",
    "H₀: There is no difference in average glucose levels between diabetic and non-diabetic individuals.\n",
    "- **Body Mass Index (BMI)**\n",
    "H₀: Age is not associated with diabetes outcome.\n",
    "- **Pregnancies**\n",
    "H₀: The number of pregnancies does not affect diabetes likelihood.\n",
    "- **Blood Pressure**\n",
    "H₀: Blood pressure does not significantly differ between diabetic and non-diabetic individuals.\n",
    "- **Diabetes Pedigree Function (DPF)**\n",
    "H₀: DPF does not significantly differ between diabetic and non-diabetic individuals.\n",
    "\n",
    "Each hypothesis will be tested using a combination of exploratory data analysis, visualization, and statistical inference, with clear annotations to guide interpretation and highlight key findings.\n",
    " "
   ]
  },
  {
   "cell_type": "markdown",
   "id": "1b38f665-cc11-4146-a86c-510397e8be01",
   "metadata": {},
   "source": [
    "## Importing Essential Libraries for Statistical Analysis and Visualization\n",
    "\n",
    "In this section, we import the core Python libraries required for hypothesis testing, data manipulation, and visualization. These tools form the backbone of our analytical workflow.\n",
    "\n",
    "### Statistical Testing Modules\n",
    "- `ttest_ind` from `scipy.stats`: Performs an independent two-sample t-test to compare the means of two groups.\n",
    "- `chi2_contingency` from `scipy.stats`: Executes a chi-square test of independence on a contingency table.\n",
    "- `mannwhitneyu` from `scipy.stats`: Conducts the Mann-Whitney U test, a non-parametric alternative to the t-test for comparing two independent samples.\n",
    "\n",
    "### Visualization Libraries\n",
    "- `seaborn`: A high-level interface for drawing attractive and informative statistical graphics.\n",
    "- `matplotlib.pyplot`: A foundational plotting library used for creating static, animated, and interactive visualizations.\n",
    "\n",
    "### Data Handling Library\n",
    "- `pandas`: Provides data structures and functions needed to manipulate structured data efficiently.\n"
   ]
  },
  {
   "cell_type": "code",
   "execution_count": 133,
   "id": "f9927619-13b8-44c2-9f76-216757f23303",
   "metadata": {},
   "outputs": [],
   "source": [
    "\n",
    "from scipy.stats import ttest_ind\n",
    "from scipy.stats import chi2_contingency\n",
    "from scipy.stats import mannwhitneyu\n",
    "import seaborn as sns\n",
    "import matplotlib.pyplot as plt\n",
    "import pandas as pd\n"
   ]
  },
  {
   "cell_type": "markdown",
   "id": "dda35e9b-63d8-4375-80af-99194d0b4ab9",
   "metadata": {},
   "source": [
    "## Load and Inspect Data\n",
    "\n",
    "The dataset contains detailed information on Pima Indians Diabetes patients"
   ]
  },
  {
   "cell_type": "code",
   "execution_count": 130,
   "id": "15d2499a-1141-435c-8312-419960ba6a41",
   "metadata": {},
   "outputs": [
    {
     "name": "stdout",
     "output_type": "stream",
     "text": [
      "\n",
      "\n"
     ]
    },
    {
     "data": {
      "text/html": [
       "<div>\n",
       "<style scoped>\n",
       "    .dataframe tbody tr th:only-of-type {\n",
       "        vertical-align: middle;\n",
       "    }\n",
       "\n",
       "    .dataframe tbody tr th {\n",
       "        vertical-align: top;\n",
       "    }\n",
       "\n",
       "    .dataframe thead th {\n",
       "        text-align: right;\n",
       "    }\n",
       "</style>\n",
       "<table border=\"1\" class=\"dataframe\">\n",
       "  <thead>\n",
       "    <tr style=\"text-align: right;\">\n",
       "      <th></th>\n",
       "      <th>Pregnancies</th>\n",
       "      <th>Glucose</th>\n",
       "      <th>BloodPressure</th>\n",
       "      <th>SkinThickness</th>\n",
       "      <th>Insulin</th>\n",
       "      <th>BMI</th>\n",
       "      <th>DiabetesPedigreeFunction</th>\n",
       "      <th>Age</th>\n",
       "      <th>Outcome</th>\n",
       "    </tr>\n",
       "  </thead>\n",
       "  <tbody>\n",
       "    <tr>\n",
       "      <th>0</th>\n",
       "      <td>6</td>\n",
       "      <td>148</td>\n",
       "      <td>72</td>\n",
       "      <td>35</td>\n",
       "      <td>0</td>\n",
       "      <td>33.6</td>\n",
       "      <td>0.627</td>\n",
       "      <td>50</td>\n",
       "      <td>1</td>\n",
       "    </tr>\n",
       "    <tr>\n",
       "      <th>1</th>\n",
       "      <td>1</td>\n",
       "      <td>85</td>\n",
       "      <td>66</td>\n",
       "      <td>29</td>\n",
       "      <td>0</td>\n",
       "      <td>26.6</td>\n",
       "      <td>0.351</td>\n",
       "      <td>31</td>\n",
       "      <td>0</td>\n",
       "    </tr>\n",
       "    <tr>\n",
       "      <th>2</th>\n",
       "      <td>8</td>\n",
       "      <td>183</td>\n",
       "      <td>64</td>\n",
       "      <td>0</td>\n",
       "      <td>0</td>\n",
       "      <td>23.3</td>\n",
       "      <td>0.672</td>\n",
       "      <td>32</td>\n",
       "      <td>1</td>\n",
       "    </tr>\n",
       "    <tr>\n",
       "      <th>3</th>\n",
       "      <td>1</td>\n",
       "      <td>89</td>\n",
       "      <td>66</td>\n",
       "      <td>23</td>\n",
       "      <td>94</td>\n",
       "      <td>28.1</td>\n",
       "      <td>0.167</td>\n",
       "      <td>21</td>\n",
       "      <td>0</td>\n",
       "    </tr>\n",
       "    <tr>\n",
       "      <th>4</th>\n",
       "      <td>0</td>\n",
       "      <td>137</td>\n",
       "      <td>40</td>\n",
       "      <td>35</td>\n",
       "      <td>168</td>\n",
       "      <td>43.1</td>\n",
       "      <td>2.288</td>\n",
       "      <td>33</td>\n",
       "      <td>1</td>\n",
       "    </tr>\n",
       "  </tbody>\n",
       "</table>\n",
       "</div>"
      ],
      "text/plain": [
       "   Pregnancies  Glucose  BloodPressure  SkinThickness  Insulin   BMI  \\\n",
       "0            6      148             72             35        0  33.6   \n",
       "1            1       85             66             29        0  26.6   \n",
       "2            8      183             64              0        0  23.3   \n",
       "3            1       89             66             23       94  28.1   \n",
       "4            0      137             40             35      168  43.1   \n",
       "\n",
       "   DiabetesPedigreeFunction  Age  Outcome  \n",
       "0                     0.627   50        1  \n",
       "1                     0.351   31        0  \n",
       "2                     0.672   32        1  \n",
       "3                     0.167   21        0  \n",
       "4                     2.288   33        1  "
      ]
     },
     "execution_count": 130,
     "metadata": {},
     "output_type": "execute_result"
    }
   ],
   "source": [
    "diabetes_df = pd.read_csv(\"diabetes.csv\")\n",
    "print('\\n')\n",
    "diabetes_df.head()"
   ]
  },
  {
   "cell_type": "code",
   "execution_count": 131,
   "id": "41d1ef48-1599-4be3-8536-7a0ff882172a",
   "metadata": {},
   "outputs": [
    {
     "name": "stdout",
     "output_type": "stream",
     "text": [
      "\n",
      "\n"
     ]
    },
    {
     "data": {
      "text/html": [
       "<div>\n",
       "<style scoped>\n",
       "    .dataframe tbody tr th:only-of-type {\n",
       "        vertical-align: middle;\n",
       "    }\n",
       "\n",
       "    .dataframe tbody tr th {\n",
       "        vertical-align: top;\n",
       "    }\n",
       "\n",
       "    .dataframe thead th {\n",
       "        text-align: right;\n",
       "    }\n",
       "</style>\n",
       "<table border=\"1\" class=\"dataframe\">\n",
       "  <thead>\n",
       "    <tr style=\"text-align: right;\">\n",
       "      <th></th>\n",
       "      <th>Pregnancies</th>\n",
       "      <th>Glucose</th>\n",
       "      <th>BloodPressure</th>\n",
       "      <th>SkinThickness</th>\n",
       "      <th>Insulin</th>\n",
       "      <th>BMI</th>\n",
       "      <th>DiabetesPedigreeFunction</th>\n",
       "      <th>Age</th>\n",
       "      <th>Outcome</th>\n",
       "    </tr>\n",
       "  </thead>\n",
       "  <tbody>\n",
       "    <tr>\n",
       "      <th>count</th>\n",
       "      <td>768.000000</td>\n",
       "      <td>768.000000</td>\n",
       "      <td>768.000000</td>\n",
       "      <td>768.000000</td>\n",
       "      <td>768.000000</td>\n",
       "      <td>768.000000</td>\n",
       "      <td>768.000000</td>\n",
       "      <td>768.000000</td>\n",
       "      <td>768.000000</td>\n",
       "    </tr>\n",
       "    <tr>\n",
       "      <th>mean</th>\n",
       "      <td>3.845052</td>\n",
       "      <td>120.894531</td>\n",
       "      <td>69.105469</td>\n",
       "      <td>20.536458</td>\n",
       "      <td>79.799479</td>\n",
       "      <td>31.992578</td>\n",
       "      <td>0.471876</td>\n",
       "      <td>33.240885</td>\n",
       "      <td>0.348958</td>\n",
       "    </tr>\n",
       "    <tr>\n",
       "      <th>std</th>\n",
       "      <td>3.369578</td>\n",
       "      <td>31.972618</td>\n",
       "      <td>19.355807</td>\n",
       "      <td>15.952218</td>\n",
       "      <td>115.244002</td>\n",
       "      <td>7.884160</td>\n",
       "      <td>0.331329</td>\n",
       "      <td>11.760232</td>\n",
       "      <td>0.476951</td>\n",
       "    </tr>\n",
       "    <tr>\n",
       "      <th>min</th>\n",
       "      <td>0.000000</td>\n",
       "      <td>0.000000</td>\n",
       "      <td>0.000000</td>\n",
       "      <td>0.000000</td>\n",
       "      <td>0.000000</td>\n",
       "      <td>0.000000</td>\n",
       "      <td>0.078000</td>\n",
       "      <td>21.000000</td>\n",
       "      <td>0.000000</td>\n",
       "    </tr>\n",
       "    <tr>\n",
       "      <th>25%</th>\n",
       "      <td>1.000000</td>\n",
       "      <td>99.000000</td>\n",
       "      <td>62.000000</td>\n",
       "      <td>0.000000</td>\n",
       "      <td>0.000000</td>\n",
       "      <td>27.300000</td>\n",
       "      <td>0.243750</td>\n",
       "      <td>24.000000</td>\n",
       "      <td>0.000000</td>\n",
       "    </tr>\n",
       "    <tr>\n",
       "      <th>50%</th>\n",
       "      <td>3.000000</td>\n",
       "      <td>117.000000</td>\n",
       "      <td>72.000000</td>\n",
       "      <td>23.000000</td>\n",
       "      <td>30.500000</td>\n",
       "      <td>32.000000</td>\n",
       "      <td>0.372500</td>\n",
       "      <td>29.000000</td>\n",
       "      <td>0.000000</td>\n",
       "    </tr>\n",
       "    <tr>\n",
       "      <th>75%</th>\n",
       "      <td>6.000000</td>\n",
       "      <td>140.250000</td>\n",
       "      <td>80.000000</td>\n",
       "      <td>32.000000</td>\n",
       "      <td>127.250000</td>\n",
       "      <td>36.600000</td>\n",
       "      <td>0.626250</td>\n",
       "      <td>41.000000</td>\n",
       "      <td>1.000000</td>\n",
       "    </tr>\n",
       "    <tr>\n",
       "      <th>max</th>\n",
       "      <td>17.000000</td>\n",
       "      <td>199.000000</td>\n",
       "      <td>122.000000</td>\n",
       "      <td>99.000000</td>\n",
       "      <td>846.000000</td>\n",
       "      <td>67.100000</td>\n",
       "      <td>2.420000</td>\n",
       "      <td>81.000000</td>\n",
       "      <td>1.000000</td>\n",
       "    </tr>\n",
       "  </tbody>\n",
       "</table>\n",
       "</div>"
      ],
      "text/plain": [
       "       Pregnancies     Glucose  BloodPressure  SkinThickness     Insulin  \\\n",
       "count   768.000000  768.000000     768.000000     768.000000  768.000000   \n",
       "mean      3.845052  120.894531      69.105469      20.536458   79.799479   \n",
       "std       3.369578   31.972618      19.355807      15.952218  115.244002   \n",
       "min       0.000000    0.000000       0.000000       0.000000    0.000000   \n",
       "25%       1.000000   99.000000      62.000000       0.000000    0.000000   \n",
       "50%       3.000000  117.000000      72.000000      23.000000   30.500000   \n",
       "75%       6.000000  140.250000      80.000000      32.000000  127.250000   \n",
       "max      17.000000  199.000000     122.000000      99.000000  846.000000   \n",
       "\n",
       "              BMI  DiabetesPedigreeFunction         Age     Outcome  \n",
       "count  768.000000                768.000000  768.000000  768.000000  \n",
       "mean    31.992578                  0.471876   33.240885    0.348958  \n",
       "std      7.884160                  0.331329   11.760232    0.476951  \n",
       "min      0.000000                  0.078000   21.000000    0.000000  \n",
       "25%     27.300000                  0.243750   24.000000    0.000000  \n",
       "50%     32.000000                  0.372500   29.000000    0.000000  \n",
       "75%     36.600000                  0.626250   41.000000    1.000000  \n",
       "max     67.100000                  2.420000   81.000000    1.000000  "
      ]
     },
     "execution_count": 131,
     "metadata": {},
     "output_type": "execute_result"
    }
   ],
   "source": [
    "print('\\n')\n",
    "diabetes_df.describe()"
   ]
  },
  {
   "cell_type": "markdown",
   "id": "46d1ca5f-4c0a-46b6-9bc5-4691485f68dd",
   "metadata": {},
   "source": [
    "## Data Clean Up and Preparation\n",
    "\n",
    "In this section, dataset is cleaned for more readability and to keep relevant data for analysis. This section outlines the initial preprocessing steps applied to the Pima Indians Diabetes dataset.\n",
    "\n",
    "Columns `SkinThickness` and `Insulin` are removed as this decision is based on an examination of their distributions—specifically, the first quartile (Q1) for both features is 0, indicating that at least 25% of the values are zero. \n",
    "\n",
    "In the context of biomedical data, a value of zero for these measurements is physiologically implausible and likely represents missing or unrecorded data.\n",
    "\n",
    "Rather than imputing these values, which could introduce bias or noise, we choose to drop these features entirely. This helps streamline the dataset and ensures that our hypothesis testing is based on reliable and meaningful variables.\n"
   ]
  },
  {
   "cell_type": "code",
   "execution_count": 104,
   "id": "6712618b-e94e-4353-826f-98c2a5df3cf8",
   "metadata": {},
   "outputs": [
    {
     "name": "stdout",
     "output_type": "stream",
     "text": [
      "\n",
      "\n"
     ]
    },
    {
     "data": {
      "text/html": [
       "<div>\n",
       "<style scoped>\n",
       "    .dataframe tbody tr th:only-of-type {\n",
       "        vertical-align: middle;\n",
       "    }\n",
       "\n",
       "    .dataframe tbody tr th {\n",
       "        vertical-align: top;\n",
       "    }\n",
       "\n",
       "    .dataframe thead th {\n",
       "        text-align: right;\n",
       "    }\n",
       "</style>\n",
       "<table border=\"1\" class=\"dataframe\">\n",
       "  <thead>\n",
       "    <tr style=\"text-align: right;\">\n",
       "      <th></th>\n",
       "      <th>Number of Pregnancies</th>\n",
       "      <th>Glucose Concentration</th>\n",
       "      <th>Blood Pressure (mmHg)</th>\n",
       "      <th>BMI</th>\n",
       "      <th>Diabetes Pedigree Function</th>\n",
       "      <th>Age</th>\n",
       "      <th>Outcome</th>\n",
       "    </tr>\n",
       "  </thead>\n",
       "  <tbody>\n",
       "    <tr>\n",
       "      <th>0</th>\n",
       "      <td>6</td>\n",
       "      <td>148</td>\n",
       "      <td>72</td>\n",
       "      <td>33.6</td>\n",
       "      <td>0.627</td>\n",
       "      <td>50</td>\n",
       "      <td>1</td>\n",
       "    </tr>\n",
       "    <tr>\n",
       "      <th>1</th>\n",
       "      <td>1</td>\n",
       "      <td>85</td>\n",
       "      <td>66</td>\n",
       "      <td>26.6</td>\n",
       "      <td>0.351</td>\n",
       "      <td>31</td>\n",
       "      <td>0</td>\n",
       "    </tr>\n",
       "    <tr>\n",
       "      <th>2</th>\n",
       "      <td>8</td>\n",
       "      <td>183</td>\n",
       "      <td>64</td>\n",
       "      <td>23.3</td>\n",
       "      <td>0.672</td>\n",
       "      <td>32</td>\n",
       "      <td>1</td>\n",
       "    </tr>\n",
       "    <tr>\n",
       "      <th>3</th>\n",
       "      <td>1</td>\n",
       "      <td>89</td>\n",
       "      <td>66</td>\n",
       "      <td>28.1</td>\n",
       "      <td>0.167</td>\n",
       "      <td>21</td>\n",
       "      <td>0</td>\n",
       "    </tr>\n",
       "    <tr>\n",
       "      <th>4</th>\n",
       "      <td>0</td>\n",
       "      <td>137</td>\n",
       "      <td>40</td>\n",
       "      <td>43.1</td>\n",
       "      <td>2.288</td>\n",
       "      <td>33</td>\n",
       "      <td>1</td>\n",
       "    </tr>\n",
       "  </tbody>\n",
       "</table>\n",
       "</div>"
      ],
      "text/plain": [
       "   Number of Pregnancies  Glucose Concentration  Blood Pressure (mmHg)   BMI  \\\n",
       "0                      6                    148                     72  33.6   \n",
       "1                      1                     85                     66  26.6   \n",
       "2                      8                    183                     64  23.3   \n",
       "3                      1                     89                     66  28.1   \n",
       "4                      0                    137                     40  43.1   \n",
       "\n",
       "   Diabetes Pedigree Function  Age  Outcome  \n",
       "0                       0.627   50        1  \n",
       "1                       0.351   31        0  \n",
       "2                       0.672   32        1  \n",
       "3                       0.167   21        0  \n",
       "4                       2.288   33        1  "
      ]
     },
     "execution_count": 104,
     "metadata": {},
     "output_type": "execute_result"
    }
   ],
   "source": [
    "diabetes_df.drop(['SkinThickness', 'Insulin'], axis=1, inplace=True)\n",
    "\n",
    "diabetes_df.rename(columns={\n",
    "    'Pregnancies': 'Number of Pregnancies',\n",
    "    'Glucose': 'Glucose Concentration',\n",
    "    'BloodPressure': 'Blood Pressure (mmHg)',\n",
    "    'DiabetesPedigreeFunction': 'Diabetes Pedigree Function'\n",
    "}, inplace=True)\n",
    "\n",
    "# Map values for better readability\n",
    "print('\\n')\n",
    "diabetes_df.head()"
   ]
  },
  {
   "cell_type": "markdown",
   "id": "d2eb8826-54b7-45db-a178-727c74cb10d3",
   "metadata": {},
   "source": [
    "---\n",
    "\n",
    "## Hypothesis 1: There is no difference in average glucose levels between diabetic and non-diabetic individuals.\n",
    "\n",
    "#### Objective\n",
    "We aim to test whether the average glucose concentration differs significantly between individuals diagnosed with diabetes (`Outcome = 1`) and those without diabetes (`Outcome = 0`). This is a classic case for a **two-sample independent t-test**, which compares the means of two unrelated groups.\n",
    "\n",
    "#### Methodology\n",
    "1. **Group Separation**  \n",
    "   We split the dataset into two groups based on diabetes outcome:\n",
    "   - `diabetic`: individuals with diabetes\n",
    "   - `non_diabetic`: individuals without diabetes\n",
    "\n",
    "2. **Statistical Test**  \n",
    "   We perform an independent t-test using `ttest_ind()` from `scipy.stats`, with `nan_policy='omit'` to handle any missing values gracefully.\n",
    "\n",
    "3. **Hypotheses**\n",
    "   - Null Hypothesis (H₀): There is no difference in average glucose levels between diabetic and non-diabetic individuals.\n",
    "   - Alternative Hypothesis (H₁): There is a significant difference in average glucose levels between the two groups.\n"
   ]
  },
  {
   "cell_type": "code",
   "execution_count": 105,
   "id": "c2bf637e-4368-45e8-9368-0ff5e1cc47c8",
   "metadata": {},
   "outputs": [
    {
     "name": "stdout",
     "output_type": "stream",
     "text": [
      "T-statistic: 14.6001, p-value: 8.94e-43\n",
      "Average glucose levels are different between diabetic and non-diabetic individuals\n",
      "\n",
      "\n"
     ]
    },
    {
     "data": {
      "image/png": "[encoded data removed]",
      "text/plain": [
       "<Figure size 640x480 with 1 Axes>"
      ]
     },
     "metadata": {},
     "output_type": "display_data"
    }
   ],
   "source": [
    "\n",
    "# Split groups\n",
    "diabetic = diabetes_df[diabetes_df['Outcome'] == 1]['Glucose Concentration']\n",
    "non_diabetic = diabetes_df[diabetes_df['Outcome'] == 0]['Glucose Concentration']\n",
    "\n",
    "# T-test\n",
    "t_stat, p_val = ttest_ind(diabetic, non_diabetic, nan_policy='omit')\n",
    "print(f\"T-statistic: {t_stat:.4f}, p-value: {p_val:.2e}\")\n",
    "if p_val < 0.05:\n",
    "    print('Average glucose levels are different between diabetic and non-diabetic individuals')\n",
    "else:\n",
    "    print(\"There's no difference in average glucose levels between diabetic and non-diabetic individuals\")\n",
    "print(\"\\n\")\n",
    "\n",
    "# Visualization\n",
    "sns.boxplot(x='Outcome', y='Glucose Concentration', data=diabetes_df)\n",
    "plt.title(\"Glucose Levels by Diabetes Outcome\")\n",
    "plt.show()\n"
   ]
  },
  {
   "cell_type": "markdown",
   "id": "28abc15f-bf1e-4684-b509-f715f036862a",
   "metadata": {},
   "source": [
    "#### Result\n",
    "Since the p-value is far below the conventional threshold of 0.05, we reject the null hypothesis. This provides strong statistical evidence that average glucose levels do differ between diabetic and non-diabetic individuals.\n",
    "\n",
    "#### Intepretation\n",
    "The extremely low p-value suggests that the observed difference in glucose concentration is not due to random chance. Diabetic individuals tend to have significantly higher glucose levels, which aligns with medical understanding of the condition.\n",
    "\n",
    "#### Visualization:\n",
    "The boxplot clearly shows that the median and overall distribution of glucose concentration is higher for diabetic individuals, reinforcing our statistical findings."
   ]
  },
  {
   "cell_type": "markdown",
   "id": "7617d123-34f5-4dbd-9abd-d65366591277",
   "metadata": {},
   "source": [
    "---\n",
    "\n",
    "## Hypothesis Test 2: Age is not associated with diabetes outcome.\n",
    "\n",
    "We aim to determine whether age group is statistically associated with diabetes outcome. This is a classic case for a Chi-squared test of independence, which evaluates whether two categorical variables are related."
   ]
  },
  {
   "cell_type": "markdown",
   "id": "8c75f6fd-26c0-4a40-bd0b-e2266c5b2a8b",
   "metadata": {},
   "source": [
    "#### Step 1. `Age Grouping` \n",
    "- The continuous Age variable is binned into categorical age groups: 20s, 30s, 40s, 50s, and 60+"
   ]
  },
  {
   "cell_type": "code",
   "execution_count": 106,
   "id": "1a62ac44-94be-447c-87a4-557777eebcb9",
   "metadata": {},
   "outputs": [],
   "source": [
    "diabetes_df['AgeGroup'] = pd.cut(diabetes_df['Age'], bins=[20, 30, 40, 50, 60, 100], labels=['20s','30s','40s','50s','60+'])"
   ]
  },
  {
   "cell_type": "markdown",
   "id": "cce5ba29-a569-4130-93bf-018afef90d36",
   "metadata": {},
   "source": [
    "#### Step 2. `Contingency Table` \n",
    "- A cross-tabulation is created to count the number of diabetic and non-diabetic individuals in each age group."
   ]
  },
  {
   "cell_type": "code",
   "execution_count": 107,
   "id": "1f113f79-bfda-4ee9-bb78-2f8bb25f8dbd",
   "metadata": {},
   "outputs": [],
   "source": [
    "contingency = pd.crosstab(diabetes_df['AgeGroup'], diabetes_df['Outcome'])"
   ]
  },
  {
   "cell_type": "markdown",
   "id": "859ed961-ba5c-4f3e-b86c-2756554f6e58",
   "metadata": {},
   "source": [
    "#### Step 3. `Chi-squared Test` \n",
    "- We apply the chi2_contingency() function to test for independence between age group and diabetes outcome."
   ]
  },
  {
   "cell_type": "code",
   "execution_count": 108,
   "id": "05d4f240-171e-4d04-aa70-42df2ef430f3",
   "metadata": {},
   "outputs": [],
   "source": [
    "chi2, p_val, dof, expected = chi2_contingency(contingency)"
   ]
  },
  {
   "cell_type": "markdown",
   "id": "ac11178f-1b4b-4910-94f2-a0412fc91a91",
   "metadata": {},
   "source": [
    "#### Step 4. `Hypotheses`\n",
    "- Null Hypothesis (H₀): Age group and diabetes outcome are independent.\n",
    "- Alternative Hypothesis (H₁): Age group and diabetes outcome are associated."
   ]
  },
  {
   "cell_type": "code",
   "execution_count": 109,
   "id": "d06d28b1-0a29-4ca0-8dc3-ad23319e2785",
   "metadata": {},
   "outputs": [
    {
     "name": "stdout",
     "output_type": "stream",
     "text": [
      "Chi-squared: 81.66, p-value: 7.74e-17\n",
      "Age group and diabetes outcome are associated\n",
      "\n",
      "\n"
     ]
    }
   ],
   "source": [
    "print(f\"Chi-squared: {chi2:.2f}, p-value: {p_val:.2e}\")\n",
    "\n",
    "if p_val < 0.05:\n",
    "    print('Age group and diabetes outcome are associated')\n",
    "else:\n",
    "    print(\"Age group and diabetes outcome are independent\")\n",
    "print(\"\\n\")"
   ]
  },
  {
   "cell_type": "markdown",
   "id": "ca16ec1a-4e4f-481d-ad0b-c6ed4084f1b5",
   "metadata": {},
   "source": [
    "### Result:\n",
    "Since the p-value is far below 0.05, we reject the null hypothesis. This indicates a statistically significant association between age group and diabetes outcome.\n",
    "\n",
    "### Intepretation:\n",
    "The test result suggests that the likelihood of having diabetes varies across age groups. Older individuals are more likely to be diabetic, which aligns with known epidemiological trends. This insight is crucial for targeted screening and preventive strategies."
   ]
  },
  {
   "cell_type": "code",
   "execution_count": 110,
   "id": "6da4b776-ad14-449c-9d58-c978c415c450",
   "metadata": {},
   "outputs": [
    {
     "data": {
      "image/png": "[encoded data removed]",
      "text/plain": [
       "<Figure size 800x500 with 1 Axes>"
      ]
     },
     "metadata": {},
     "output_type": "display_data"
    }
   ],
   "source": [
    "# Create crosstab with raw counts\n",
    "age_outcome_counts = pd.crosstab(diabetes_df['AgeGroup'], diabetes_df['Outcome'])\n",
    "\n",
    "# Plot stacked bar chart\n",
    "ax = age_outcome_counts.plot(kind='bar', stacked=True, figsize=(8, 5), colormap='Set2')\n",
    "\n",
    "# Add data labels\n",
    "for container in ax.containers:\n",
    "    ax.bar_label(container, label_type='center', fontsize=9)\n",
    "\n",
    "# Customize plot\n",
    "plt.title('Diabetes Outcome Counts by Age Group')\n",
    "plt.xlabel('Age Group')\n",
    "plt.ylabel('Sample Count')\n",
    "plt.legend(title='Diabetes Outcome', labels=['No Diabetes', 'Diabetes'], loc='upper right')\n",
    "plt.xticks(rotation=0)\n",
    "plt.tight_layout()"
   ]
  },
  {
   "cell_type": "markdown",
   "id": "e81a8a96-b6a6-40d0-b91b-96a286b7304c",
   "metadata": {},
   "source": [
    "### Visualization:\n",
    "Diabetes prevalence increases steadily with age, highlighting the need for early screening and lifestyle changes starting in the 30s."
   ]
  },
  {
   "cell_type": "markdown",
   "id": "e2c31c40-bb2a-4a6d-9595-26df6f33db9b",
   "metadata": {},
   "source": [
    "---\n",
    "\n",
    "## Hypothesis Test 3: BMI does not significantly differ between diabetic and non-diabetic individuals.\n",
    "**Null Hypothesis (H₀)**: BMI does not significantly differ between diabetic and non-diabetic individuals.  \n",
    "**Alternative Hypothesis (H₁)**: BMI significantly differs between diabetic and non-diabetic individuals."
   ]
  },
  {
   "cell_type": "markdown",
   "id": "984ee2c1-4ab3-4732-9364-c9d4ccefb2e8",
   "metadata": {},
   "source": [
    "###  Statistical Test: Welch’s t-test\n",
    "Independent two-sample t-test (Welch’s t-test) will be performed to compare the BMI distributions of diabetic and non-diabetic individuals.\n"
   ]
  },
  {
   "cell_type": "code",
   "execution_count": 111,
   "id": "68235bad-380d-4948-8d96-4fbbef8a7aec",
   "metadata": {},
   "outputs": [
    {
     "name": "stdout",
     "output_type": "stream",
     "text": [
      "T-statistic: 8.62, p-value: 6.57e-17\n",
      "BMI significantly differs between diabetic and non-diabetic individuals.\n"
     ]
    }
   ],
   "source": [
    "\n",
    "bmi_diabetic = diabetes_df[diabetes_df['Outcome'] == 1]['BMI']\n",
    "bmi_nondiabetic = diabetes_df[diabetes_df['Outcome'] == 0]['BMI']\n",
    "\n",
    "# Perform independent t-test\n",
    "t_stat, p_val = ttest_ind(bmi_diabetic, bmi_nondiabetic, equal_var=False)  # Welch's t-test\n",
    "print(f\"T-statistic: {t_stat:.2f}, p-value: {p_val:.2e}\")\n",
    "if p_val < 0.05:\n",
    "    print('BMI significantly differs between diabetic and non-diabetic individuals.')\n",
    "else:\n",
    "    print(\"BMI does not significantly differ between diabetic and non-diabetic individuals.\")\n"
   ]
  },
  {
   "cell_type": "markdown",
   "id": "cde8652b-e66e-4065-8e7d-ecc65dbaae5f",
   "metadata": {},
   "source": [
    "#### Output:\n",
    "- **T-statistic**: 8.62  \n",
    "- **p-value**: 6.57 × 10⁻¹⁷\n",
    "\n",
    "**Conclusion**: Since the p-value is far below the 0.05 threshold, we reject the null hypothesis.  \n",
    "**BMI significantly differs** between diabetic and non-diabetic individuals."
   ]
  },
  {
   "cell_type": "code",
   "execution_count": 112,
   "id": "fcadce89-f898-4183-a9c1-71c47ddba6a3",
   "metadata": {},
   "outputs": [
    {
     "data": {
      "image/png": "[encoded data removed]",
      "text/plain": [
       "<Figure size 800x500 with 1 Axes>"
      ]
     },
     "metadata": {},
     "output_type": "display_data"
    }
   ],
   "source": [
    "# Visualize BMI distribution\n",
    "plt.figure(figsize=(8, 5))\n",
    "sns.boxplot(x='Outcome', y='BMI', hue='Outcome', data=diabetes_df, palette='Set2')\n",
    "plt.xticks([0, 1], ['Non-Diabetic', 'Diabetic'])\n",
    "plt.title('BMI Distribution by Diabetes Outcome')\n",
    "plt.xlabel('Diabetes Outcome')\n",
    "plt.ylabel('BMI')\n",
    "plt.tight_layout()\n",
    "plt.show()"
   ]
  },
  {
   "cell_type": "markdown",
   "id": "1a710a41-e55a-4c89-97e0-4ad7b5a4cb1e",
   "metadata": {},
   "source": [
    "### Visualization: BMI Distribution by Diabetes Outcome\n",
    "The boxplot below illustrates the BMI distribution for both groups:\n",
    "- **Diabetic Group**:\n",
    "  - Higher median BMI\n",
    "  - Tighter interquartile range\n",
    "- **Non-Diabetic Group**:\n",
    "  - Lower median BMI\n",
    "  - Wider spread and more outliers\n",
    "\n",
    "This visual reinforces the statistical result, showing a clear upward shift in BMI among diabetic individuals.\n",
    "\n",
    "### Interpretation\n",
    "The analysis reveals a strong association between elevated BMI and diabetes. Individuals with diabetes tend to have significantly higher BMI values, suggesting that body mass is a key risk factor.\n",
    "\n",
    "The findings highlight the importance of early weight management and lifestyle interventions to reduce diabetes risk.\n"
   ]
  },
  {
   "cell_type": "markdown",
   "id": "f7908b37-04a2-4501-8648-01b01ceb453e",
   "metadata": {},
   "source": [
    "---\n",
    "\n",
    "## Hypothesis Test 4: The number of pregnancies does not affect diabetes likelihood.\n",
    "\n",
    "To test whether the number of pregnancies is associated with diabetes outcome using a Chi-Squared Test of Independence.\n"
   ]
  },
  {
   "cell_type": "markdown",
   "id": "150320b7-d253-4773-93bc-e06979e7e36b",
   "metadata": {},
   "source": [
    "#### **Step 1**: Group pregnancy counts into categorical bins\n",
    "We categorize the continuous variable Number of Pregnancies into meaningful groups for comparison."
   ]
  },
  {
   "cell_type": "code",
   "execution_count": 113,
   "id": "815e1fd3-38b5-49a1-ade6-b0ea2d7d00f2",
   "metadata": {},
   "outputs": [],
   "source": [
    "diabetes_df['PregnancyGroup'] = pd.cut(\n",
    "    diabetes_df['Number of Pregnancies'],\n",
    "    bins=[0, 2, 4, 6, 10, diabetes_df['Number of Pregnancies'].max()],\n",
    "    labels=['0–2', '3–4', '5–6', '7–10', '11+']\n",
    ")"
   ]
  },
  {
   "cell_type": "markdown",
   "id": "734d1873-5027-41a3-b978-488fc49c2c66",
   "metadata": {},
   "source": [
    "#### **Step 2**: Create a contingency table\n",
    "This table shows the count of diabetes outcomes (Outcome) across pregnancy groups."
   ]
  },
  {
   "cell_type": "code",
   "execution_count": 114,
   "id": "69a3045b-9838-4a45-8983-4fe158bfeae0",
   "metadata": {},
   "outputs": [],
   "source": [
    "# Create contingency table\n",
    "pregnancy_table = pd.crosstab(diabetes_df['PregnancyGroup'], diabetes_df['Outcome'])"
   ]
  },
  {
   "cell_type": "markdown",
   "id": "763a0c5f-6b55-4911-be5f-ec220a07c25e",
   "metadata": {},
   "source": [
    "#### **Step 3**: Run Chi-Squared Test\n",
    "We test the null hypothesis:\n",
    "- H₀: Pregnancy count and diabetes outcome are independent.\n",
    "- H₁: Pregnancy count and diabetes outcome are associated."
   ]
  },
  {
   "cell_type": "code",
   "execution_count": 115,
   "id": "511ea741-c72d-4140-b805-ff6f8572846a",
   "metadata": {},
   "outputs": [
    {
     "name": "stdout",
     "output_type": "stream",
     "text": [
      "Chi-squared: 56.57, p-value: 1.52e-11\n",
      "Number of pregnancies affects diabetes likelihood\n"
     ]
    }
   ],
   "source": [
    "# Run Chi-Squared Test\n",
    "chi2, p_val, dof, expected = chi2_contingency(pregnancy_table)\n",
    "print(f\"Chi-squared: {chi2:.2f}, p-value: {p_val:.2e}\")\n",
    "if p_val < 0.05:\n",
    "    print('Number of pregnancies affects diabetes likelihood')\n",
    "else:\n",
    "    print(\"Number of pregnancies does affect diabetes likelihood\")\n"
   ]
  },
  {
   "cell_type": "markdown",
   "id": "46ce28b6-bb02-41e8-8c88-a3c814e558b8",
   "metadata": {},
   "source": [
    "**Result**:\n",
    "Chi-squared = 56.57, p-value = 1.52e-11\n",
    "- Since p < 0.05, we reject the null hypothesis.\n",
    "- Conclusion: The number of pregnancies does affect diabetes likelihood.\n"
   ]
  },
  {
   "cell_type": "markdown",
   "id": "19901758-ab10-4e89-9803-594d5415d717",
   "metadata": {},
   "source": [
    "#### **Step 4**: Visualize outcome proportions by pregnancy group\n",
    "We normalize the contingency table to show proportions and plot a stacked bar chart."
   ]
  },
  {
   "cell_type": "code",
   "execution_count": 116,
   "id": "df49eb66-2ad8-4d1e-9cfd-e4a8d90ff215",
   "metadata": {},
   "outputs": [
    {
     "data": {
      "image/png": "[encoded data removed]",
      "text/plain": [
       "<Figure size 800x500 with 1 Axes>"
      ]
     },
     "metadata": {},
     "output_type": "display_data"
    }
   ],
   "source": [
    "\n",
    "# Visualize the contingency table\n",
    "pregnancy_outcome = pd.crosstab(diabetes_df['PregnancyGroup'], diabetes_df['Outcome'], normalize='index')\n",
    "\n",
    "pregnancy_outcome.plot(kind='bar', stacked=True, colormap='Set2', figsize=(8, 5))\n",
    "plt.title('Diabetes Outcome Proportions by Pregnancy Group')\n",
    "plt.xlabel('Pregnancy Count Group')\n",
    "plt.ylabel('Proportion')\n",
    "plt.legend(title='Diabetes Outcome', labels=['No Diabetes', 'Diabetes'])\n",
    "plt.tight_layout()\n",
    "plt.show()\n"
   ]
  },
  {
   "cell_type": "markdown",
   "id": "332d254a-3a4f-428a-84a3-02fe0f2a15ed",
   "metadata": {},
   "source": [
    "### Insight:\n",
    "As pregnancy count increases, the proportion of individuals with diabetes tends to rise — visually reinforcing the statistical result.\n"
   ]
  },
  {
   "cell_type": "markdown",
   "id": "84431f2d-0c7b-4056-a989-f1753aade173",
   "metadata": {},
   "source": [
    "---\n",
    "\n",
    "## Hypothesis Test 5: Blood pressure does not significantly differ between diabetic and non-diabetic individuals.\n",
    "\n",
    "To determine whether blood pressure levels differ significantly between diabetic and non-diabetic individuals using a Mann–Whitney U test, a non-parametric alternative to the independent t-test.\n"
   ]
  },
  {
   "cell_type": "markdown",
   "id": "e43056fc-f3d0-4f02-9c8e-6b018a0deae0",
   "metadata": {},
   "source": [
    "#### **Step 1**: Filter out invalid blood pressure values\n",
    "- We exclude entries with blood pressure readings of 0, which are likely missing or erroneous."
   ]
  },
  {
   "cell_type": "code",
   "execution_count": 117,
   "id": "5a46f3e9-cb90-41b3-931c-8297885a8f36",
   "metadata": {},
   "outputs": [],
   "source": [
    "filtered_df = diabetes_df[diabetes_df['Blood Pressure (mmHg)'] > 0]"
   ]
  },
  {
   "cell_type": "markdown",
   "id": "d1a24af7-57b8-4294-99e5-3c510c8210f5",
   "metadata": {},
   "source": [
    "#### **Step 2**: Split blood pressure values by diabetes outcome\n",
    "- We separate the blood pressure data into two groups based on diabetes status."
   ]
  },
  {
   "cell_type": "code",
   "execution_count": 118,
   "id": "4548535b-b4ad-473f-b86a-30fe85dd6196",
   "metadata": {},
   "outputs": [],
   "source": [
    "# Split BP values by diabetes outcome\n",
    "bp_diabetic = filtered_df[filtered_df['Outcome'] == 1]['Blood Pressure (mmHg)']\n",
    "bp_nondiabetic = filtered_df[filtered_df['Outcome'] == 0]['Blood Pressure (mmHg)']"
   ]
  },
  {
   "cell_type": "markdown",
   "id": "99b00940-ff7b-4555-b880-2f6a3a5fe512",
   "metadata": {},
   "source": [
    "#### **Step 3**: Run Mann–Whitney U Test\n",
    "We test the null hypothesis:\n",
    "- H₀: Blood pressure distributions are the same for diabetic and non-diabetic individuals.\n",
    "- H₁: Blood pressure distributions differ between the two groups\n"
   ]
  },
  {
   "cell_type": "code",
   "execution_count": 119,
   "id": "d5856d40-9f3e-4b05-b4d8-c647b3e3b760",
   "metadata": {},
   "outputs": [
    {
     "name": "stdout",
     "output_type": "stream",
     "text": [
      "Mann-Whitney U statistic: 73645.50, p-value: 0.0000016285\n"
     ]
    }
   ],
   "source": [
    "# Mann-Whitney U Test\n",
    "u_stat, p_val = mannwhitneyu(bp_diabetic, bp_nondiabetic, alternative='two-sided')\n",
    "print(f\"Mann-Whitney U statistic: {u_stat:.2f}, p-value: {p_val:.10f}\")\n"
   ]
  },
  {
   "cell_type": "markdown",
   "id": "81895e50-f528-47fd-880f-d00f4fec1e28",
   "metadata": {},
   "source": [
    "- **Result**:\n",
    "Mann–Whitney U = 73645.50, p-value = 0.0000016285\n",
    "Since p < 0.05, we reject the null hypothesis.\n",
    "- **Conclusion**: Blood pressure does significantly differ between diabetic and non-diabetic individuals.\n",
    "\n"
   ]
  },
  {
   "cell_type": "markdown",
   "id": "6680cb70-748b-4f7b-b488-0a97ae5919a9",
   "metadata": {},
   "source": [
    "#### **Step 4**: Visualize blood pressure distribution\n",
    "- We use a box plot to compare the distributions of blood pressure across diabetes outcomes.\n"
   ]
  },
  {
   "cell_type": "code",
   "execution_count": 120,
   "id": "b9bf2054-5fc1-47a6-b7e5-788fcf782924",
   "metadata": {},
   "outputs": [
    {
     "data": {
      "image/png": "[encoded data removed]",
      "text/plain": [
       "<Figure size 800x500 with 1 Axes>"
      ]
     },
     "metadata": {},
     "output_type": "display_data"
    }
   ],
   "source": [
    "\n",
    "# Visualization\n",
    "plt.figure(figsize=(8, 5))\n",
    "sns.boxplot(x='Outcome', y='Blood Pressure (mmHg)', hue='Outcome', data=filtered_df, palette='coolwarm')\n",
    "plt.xticks([0, 1], ['Non-Diabetic', 'Diabetic'])\n",
    "plt.title('Blood Pressure Distribution by Diabetes Outcome')\n",
    "plt.xlabel('Diabetes Outcome')\n",
    "plt.ylabel('Blood Pressure')\n",
    "plt.tight_layout()\n",
    "plt.show()\n"
   ]
  },
  {
   "cell_type": "markdown",
   "id": "cd4f5b35-f52a-4e2a-8dd1-4952f3941bee",
   "metadata": {},
   "source": [
    "**Insight**:\n",
    "The box plot reveals a slightly higher median blood pressure among diabetic individuals, with visible distributional differences—supporting the statistical result"
   ]
  },
  {
   "cell_type": "markdown",
   "id": "5d58cd13-1918-4af2-9ce0-d544a8f42ad2",
   "metadata": {},
   "source": [
    "---\n",
    "\n",
    "## Hypothesis Test 6: Diabetes Pedigree Function does not significantly differ between diabetic and non-diabetic individuals.\n",
    "\n",
    "#### Hypothesis Statement\n",
    "- Null Hypothesis (H₀): The distribution of Diabetes Pedigree Function (DPF) does not significantly differ between diabetic and non-diabetic individuals.\n",
    "- Alternative Hypothesis (H₁): The distribution of DPF significantly differs between the two groups."
   ]
  },
  {
   "cell_type": "markdown",
   "id": "a4b444ba-b3e2-45aa-9328-c957ea5f82bd",
   "metadata": {},
   "source": [
    "#### **Step 1**: Data filtering\n",
    "- We remove entries with zero or missing DPF values to ensure data quality. \n",
    "- DPF values of zero may indicate missing or invalid data in this context."
   ]
  },
  {
   "cell_type": "code",
   "execution_count": 121,
   "id": "1b1e8c9f-f6ca-41e9-942e-ce0b84846ae6",
   "metadata": {},
   "outputs": [],
   "source": [
    "# Filter out any missing or zero DPF values if needed\n",
    "filtered_df = diabetes_df[diabetes_df['Diabetes Pedigree Function'] > 0]"
   ]
  },
  {
   "cell_type": "markdown",
   "id": "a3bd833e-9974-4445-a293-2446ae97cfd5",
   "metadata": {},
   "source": [
    "#### **Step 2**: Grouping by Outcome\n",
    "We separate the DPF values into two groups:\n",
    "- Diabetic (Outcome = 1)\n",
    "- Non-Diabetic (Outcome = 0)"
   ]
  },
  {
   "cell_type": "code",
   "execution_count": 122,
   "id": "865f8300-57f4-47c7-92a2-d2af58c43e1f",
   "metadata": {},
   "outputs": [],
   "source": [
    "# Split DPF by diabetes outcome\n",
    "dpf_diabetic = filtered_df[filtered_df['Outcome'] == 1]['Diabetes Pedigree Function']\n",
    "dpf_nondiabetic = filtered_df[filtered_df['Outcome'] == 0]['Diabetes Pedigree Function']\n"
   ]
  },
  {
   "cell_type": "markdown",
   "id": "6e01847c-1760-4ff1-bebd-9e143637318d",
   "metadata": {},
   "source": [
    "#### **Step 3**: Mann–Whitney U Test"
   ]
  },
  {
   "cell_type": "code",
   "execution_count": 123,
   "id": "8a6e1818-acd8-4c76-b1ec-d6e2a74cfefa",
   "metadata": {},
   "outputs": [
    {
     "name": "stdout",
     "output_type": "stream",
     "text": [
      "Mann–Whitney U statistic: 81231.00, p-value: 0.000001\n"
     ]
    }
   ],
   "source": [
    "# Mann–Whitney U Test\n",
    "u_stat, p_val = mannwhitneyu(dpf_diabetic, dpf_nondiabetic, alternative='two-sided')\n",
    "print(f\"Mann–Whitney U statistic: {u_stat:.2f}, p-value: {p_val:.6f}\")"
   ]
  },
  {
   "cell_type": "markdown",
   "id": "8b31702e-73c7-4fe6-8f43-6f3a73d65b4c",
   "metadata": {},
   "source": [
    "**Result**: Mann–Whitney U statistic: 81231.00 p-value: 0.000001\n",
    "- Since the p-value is very low (< 0.05), we reject the null hypothesis.\n",
    "\n",
    "**Conclusion**: There is a statistically significant difference in DPF between diabetic and non-diabetic individuals."
   ]
  },
  {
   "cell_type": "markdown",
   "id": "a454f2bc-6386-44cc-8f14-870f281ee57a",
   "metadata": {},
   "source": [
    "#### **Step 4**: Visualization\n",
    "- A boxplot helps visualize the distribution and spread of DPF values across both groups.\n",
    "- The plot clearly shows a difference in median and spread, supporting the statistical result."
   ]
  },
  {
   "cell_type": "code",
   "execution_count": 124,
   "id": "747d4908-fc16-4fe9-abee-1cacef2e296d",
   "metadata": {},
   "outputs": [
    {
     "data": {
      "image/png": "[encoded data removed]",
      "text/plain": [
       "<Figure size 800x500 with 1 Axes>"
      ]
     },
     "metadata": {},
     "output_type": "display_data"
    }
   ],
   "source": [
    "# Visualization\n",
    "plt.figure(figsize=(8, 5))\n",
    "sns.boxplot(x='Outcome', y='Diabetes Pedigree Function', hue='Outcome', data=filtered_df, palette='Set2', legend=False)\n",
    "plt.xticks([0, 1], ['Non-Diabetic', 'Diabetic'])\n",
    "plt.title('Diabetes Pedigree Function by Diabetes Outcome')\n",
    "plt.xlabel('Diabetes Outcome')\n",
    "plt.ylabel('Diabetes Pedigree Function')\n",
    "plt.tight_layout()\n",
    "plt.show()"
   ]
  }
 ],
 "metadata": {
  "kernelspec": {
   "display_name": "Python [conda env:base] *",
   "language": "python",
   "name": "conda-base-py"
  },
  "language_info": {
   "codemirror_mode": {
    "name": "ipython",
    "version": 3
   },
   "file_extension": ".py",
   "mimetype": "text/x-python",
   "name": "python",
   "nbconvert_exporter": "python",
   "pygments_lexer": "ipython3",
   "version": "3.12.7"
  }
 },
 "nbformat": 4,
 "nbformat_minor": 5
}
